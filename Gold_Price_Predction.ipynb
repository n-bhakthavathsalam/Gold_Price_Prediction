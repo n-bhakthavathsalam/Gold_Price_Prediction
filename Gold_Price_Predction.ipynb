{
  "nbformat": 4,
  "nbformat_minor": 0,
  "metadata": {
    "colab": {
      "name": "Gold Price Predction.ipynb",
      "provenance": []
    },
    "kernelspec": {
      "name": "python3",
      "display_name": "Python 3"
    },
    "language_info": {
      "name": "python"
    }
  },
  "cells": [
    {
      "cell_type": "markdown",
      "metadata": {
        "id": "Z93wd_Rquvgv"
      },
      "source": [
        "Importing the libraries"
      ]
    },
    {
      "cell_type": "code",
      "metadata": {
        "id": "uwAohAVXuzqR"
      },
      "source": [
        "import numpy as np\n",
        "import pandas as pd\n",
        "import matplotlib.pyplot as plt\n",
        "import seaborn as sns\n",
        "from sklearn.model_selection import train_test_split\n",
        "from sklearn.ensemble import RandomForestRegressor\n",
        "from sklearn.metrics import accuracy_score\n",
        "from sklearn import metrics"
      ],
      "execution_count": 1,
      "outputs": []
    },
    {
      "cell_type": "markdown",
      "metadata": {
        "id": "ALaRlULezPcG"
      },
      "source": [
        "Data collection and preprocessing "
      ]
    },
    {
      "cell_type": "code",
      "metadata": {
        "id": "IvoC4V_ayFkl"
      },
      "source": [
        "# loading the csv data a pandas DataFrame\n",
        "gold_data = pd.read_csv('/content/gld_price_data.csv')"
      ],
      "execution_count": 2,
      "outputs": []
    },
    {
      "cell_type": "code",
      "metadata": {
        "colab": {
          "base_uri": "https://localhost:8080/",
          "height": 206
        },
        "id": "UhmGU06A03YZ",
        "outputId": "03c9ee75-ee11-4cd8-dfa0-c71ef165986a"
      },
      "source": [
        "# print the first 5 rows in a dataset\n",
        "gold_data.head()"
      ],
      "execution_count": 3,
      "outputs": [
        {
          "output_type": "execute_result",
          "data": {
            "text/html": [
              "<div>\n",
              "<style scoped>\n",
              "    .dataframe tbody tr th:only-of-type {\n",
              "        vertical-align: middle;\n",
              "    }\n",
              "\n",
              "    .dataframe tbody tr th {\n",
              "        vertical-align: top;\n",
              "    }\n",
              "\n",
              "    .dataframe thead th {\n",
              "        text-align: right;\n",
              "    }\n",
              "</style>\n",
              "<table border=\"1\" class=\"dataframe\">\n",
              "  <thead>\n",
              "    <tr style=\"text-align: right;\">\n",
              "      <th></th>\n",
              "      <th>Date</th>\n",
              "      <th>SPX</th>\n",
              "      <th>GLD</th>\n",
              "      <th>USO</th>\n",
              "      <th>SLV</th>\n",
              "      <th>EUR/USD</th>\n",
              "    </tr>\n",
              "  </thead>\n",
              "  <tbody>\n",
              "    <tr>\n",
              "      <th>0</th>\n",
              "      <td>1/2/2008</td>\n",
              "      <td>1447.160034</td>\n",
              "      <td>84.860001</td>\n",
              "      <td>78.470001</td>\n",
              "      <td>15.180</td>\n",
              "      <td>1.471692</td>\n",
              "    </tr>\n",
              "    <tr>\n",
              "      <th>1</th>\n",
              "      <td>1/3/2008</td>\n",
              "      <td>1447.160034</td>\n",
              "      <td>85.570000</td>\n",
              "      <td>78.370003</td>\n",
              "      <td>15.285</td>\n",
              "      <td>1.474491</td>\n",
              "    </tr>\n",
              "    <tr>\n",
              "      <th>2</th>\n",
              "      <td>1/4/2008</td>\n",
              "      <td>1411.630005</td>\n",
              "      <td>85.129997</td>\n",
              "      <td>77.309998</td>\n",
              "      <td>15.167</td>\n",
              "      <td>1.475492</td>\n",
              "    </tr>\n",
              "    <tr>\n",
              "      <th>3</th>\n",
              "      <td>1/7/2008</td>\n",
              "      <td>1416.180054</td>\n",
              "      <td>84.769997</td>\n",
              "      <td>75.500000</td>\n",
              "      <td>15.053</td>\n",
              "      <td>1.468299</td>\n",
              "    </tr>\n",
              "    <tr>\n",
              "      <th>4</th>\n",
              "      <td>1/8/2008</td>\n",
              "      <td>1390.189941</td>\n",
              "      <td>86.779999</td>\n",
              "      <td>76.059998</td>\n",
              "      <td>15.590</td>\n",
              "      <td>1.557099</td>\n",
              "    </tr>\n",
              "  </tbody>\n",
              "</table>\n",
              "</div>"
            ],
            "text/plain": [
              "       Date          SPX        GLD        USO     SLV   EUR/USD\n",
              "0  1/2/2008  1447.160034  84.860001  78.470001  15.180  1.471692\n",
              "1  1/3/2008  1447.160034  85.570000  78.370003  15.285  1.474491\n",
              "2  1/4/2008  1411.630005  85.129997  77.309998  15.167  1.475492\n",
              "3  1/7/2008  1416.180054  84.769997  75.500000  15.053  1.468299\n",
              "4  1/8/2008  1390.189941  86.779999  76.059998  15.590  1.557099"
            ]
          },
          "metadata": {
            "tags": []
          },
          "execution_count": 3
        }
      ]
    },
    {
      "cell_type": "code",
      "metadata": {
        "colab": {
          "base_uri": "https://localhost:8080/",
          "height": 206
        },
        "id": "Sl6yIudA1CQg",
        "outputId": "544784a1-2713-4266-9da8-1054ccb0ba9d"
      },
      "source": [
        "# print the last 5 rows in a dataset\n",
        "gold_data.tail()"
      ],
      "execution_count": 4,
      "outputs": [
        {
          "output_type": "execute_result",
          "data": {
            "text/html": [
              "<div>\n",
              "<style scoped>\n",
              "    .dataframe tbody tr th:only-of-type {\n",
              "        vertical-align: middle;\n",
              "    }\n",
              "\n",
              "    .dataframe tbody tr th {\n",
              "        vertical-align: top;\n",
              "    }\n",
              "\n",
              "    .dataframe thead th {\n",
              "        text-align: right;\n",
              "    }\n",
              "</style>\n",
              "<table border=\"1\" class=\"dataframe\">\n",
              "  <thead>\n",
              "    <tr style=\"text-align: right;\">\n",
              "      <th></th>\n",
              "      <th>Date</th>\n",
              "      <th>SPX</th>\n",
              "      <th>GLD</th>\n",
              "      <th>USO</th>\n",
              "      <th>SLV</th>\n",
              "      <th>EUR/USD</th>\n",
              "    </tr>\n",
              "  </thead>\n",
              "  <tbody>\n",
              "    <tr>\n",
              "      <th>2285</th>\n",
              "      <td>5/8/2018</td>\n",
              "      <td>2671.919922</td>\n",
              "      <td>124.589996</td>\n",
              "      <td>14.0600</td>\n",
              "      <td>15.5100</td>\n",
              "      <td>1.186789</td>\n",
              "    </tr>\n",
              "    <tr>\n",
              "      <th>2286</th>\n",
              "      <td>5/9/2018</td>\n",
              "      <td>2697.790039</td>\n",
              "      <td>124.330002</td>\n",
              "      <td>14.3700</td>\n",
              "      <td>15.5300</td>\n",
              "      <td>1.184722</td>\n",
              "    </tr>\n",
              "    <tr>\n",
              "      <th>2287</th>\n",
              "      <td>5/10/2018</td>\n",
              "      <td>2723.070068</td>\n",
              "      <td>125.180000</td>\n",
              "      <td>14.4100</td>\n",
              "      <td>15.7400</td>\n",
              "      <td>1.191753</td>\n",
              "    </tr>\n",
              "    <tr>\n",
              "      <th>2288</th>\n",
              "      <td>5/14/2018</td>\n",
              "      <td>2730.129883</td>\n",
              "      <td>124.489998</td>\n",
              "      <td>14.3800</td>\n",
              "      <td>15.5600</td>\n",
              "      <td>1.193118</td>\n",
              "    </tr>\n",
              "    <tr>\n",
              "      <th>2289</th>\n",
              "      <td>5/16/2018</td>\n",
              "      <td>2725.780029</td>\n",
              "      <td>122.543800</td>\n",
              "      <td>14.4058</td>\n",
              "      <td>15.4542</td>\n",
              "      <td>1.182033</td>\n",
              "    </tr>\n",
              "  </tbody>\n",
              "</table>\n",
              "</div>"
            ],
            "text/plain": [
              "           Date          SPX         GLD      USO      SLV   EUR/USD\n",
              "2285   5/8/2018  2671.919922  124.589996  14.0600  15.5100  1.186789\n",
              "2286   5/9/2018  2697.790039  124.330002  14.3700  15.5300  1.184722\n",
              "2287  5/10/2018  2723.070068  125.180000  14.4100  15.7400  1.191753\n",
              "2288  5/14/2018  2730.129883  124.489998  14.3800  15.5600  1.193118\n",
              "2289  5/16/2018  2725.780029  122.543800  14.4058  15.4542  1.182033"
            ]
          },
          "metadata": {
            "tags": []
          },
          "execution_count": 4
        }
      ]
    },
    {
      "cell_type": "code",
      "metadata": {
        "colab": {
          "base_uri": "https://localhost:8080/"
        },
        "id": "hmuH9aXq1qn_",
        "outputId": "20d55aa1-510e-4dcd-db9d-e4e29c4369a7"
      },
      "source": [
        "# number of rows and columns\n",
        "gold_data.info()"
      ],
      "execution_count": 5,
      "outputs": [
        {
          "output_type": "stream",
          "text": [
            "<class 'pandas.core.frame.DataFrame'>\n",
            "RangeIndex: 2290 entries, 0 to 2289\n",
            "Data columns (total 6 columns):\n",
            " #   Column   Non-Null Count  Dtype  \n",
            "---  ------   --------------  -----  \n",
            " 0   Date     2290 non-null   object \n",
            " 1   SPX      2290 non-null   float64\n",
            " 2   GLD      2290 non-null   float64\n",
            " 3   USO      2290 non-null   float64\n",
            " 4   SLV      2290 non-null   float64\n",
            " 5   EUR/USD  2290 non-null   float64\n",
            "dtypes: float64(5), object(1)\n",
            "memory usage: 107.5+ KB\n"
          ],
          "name": "stdout"
        }
      ]
    },
    {
      "cell_type": "code",
      "metadata": {
        "colab": {
          "base_uri": "https://localhost:8080/"
        },
        "id": "dMuChcNS1zs2",
        "outputId": "beb1d048-7b3a-421c-83a0-244331713a23"
      },
      "source": [
        "# Checking the number of missing values\n",
        "gold_data.isnull().sum()"
      ],
      "execution_count": 6,
      "outputs": [
        {
          "output_type": "execute_result",
          "data": {
            "text/plain": [
              "Date       0\n",
              "SPX        0\n",
              "GLD        0\n",
              "USO        0\n",
              "SLV        0\n",
              "EUR/USD    0\n",
              "dtype: int64"
            ]
          },
          "metadata": {
            "tags": []
          },
          "execution_count": 6
        }
      ]
    },
    {
      "cell_type": "code",
      "metadata": {
        "colab": {
          "base_uri": "https://localhost:8080/",
          "height": 300
        },
        "id": "MPosOTNu2Jrc",
        "outputId": "8f7e04ec-83b2-4e3b-f902-f17333011042"
      },
      "source": [
        "# getting the statistical measures of the data\n",
        "gold_data.describe()"
      ],
      "execution_count": 7,
      "outputs": [
        {
          "output_type": "execute_result",
          "data": {
            "text/html": [
              "<div>\n",
              "<style scoped>\n",
              "    .dataframe tbody tr th:only-of-type {\n",
              "        vertical-align: middle;\n",
              "    }\n",
              "\n",
              "    .dataframe tbody tr th {\n",
              "        vertical-align: top;\n",
              "    }\n",
              "\n",
              "    .dataframe thead th {\n",
              "        text-align: right;\n",
              "    }\n",
              "</style>\n",
              "<table border=\"1\" class=\"dataframe\">\n",
              "  <thead>\n",
              "    <tr style=\"text-align: right;\">\n",
              "      <th></th>\n",
              "      <th>SPX</th>\n",
              "      <th>GLD</th>\n",
              "      <th>USO</th>\n",
              "      <th>SLV</th>\n",
              "      <th>EUR/USD</th>\n",
              "    </tr>\n",
              "  </thead>\n",
              "  <tbody>\n",
              "    <tr>\n",
              "      <th>count</th>\n",
              "      <td>2290.000000</td>\n",
              "      <td>2290.000000</td>\n",
              "      <td>2290.000000</td>\n",
              "      <td>2290.000000</td>\n",
              "      <td>2290.000000</td>\n",
              "    </tr>\n",
              "    <tr>\n",
              "      <th>mean</th>\n",
              "      <td>1654.315776</td>\n",
              "      <td>122.732875</td>\n",
              "      <td>31.842221</td>\n",
              "      <td>20.084997</td>\n",
              "      <td>1.283653</td>\n",
              "    </tr>\n",
              "    <tr>\n",
              "      <th>std</th>\n",
              "      <td>519.111540</td>\n",
              "      <td>23.283346</td>\n",
              "      <td>19.523517</td>\n",
              "      <td>7.092566</td>\n",
              "      <td>0.131547</td>\n",
              "    </tr>\n",
              "    <tr>\n",
              "      <th>min</th>\n",
              "      <td>676.530029</td>\n",
              "      <td>70.000000</td>\n",
              "      <td>7.960000</td>\n",
              "      <td>8.850000</td>\n",
              "      <td>1.039047</td>\n",
              "    </tr>\n",
              "    <tr>\n",
              "      <th>25%</th>\n",
              "      <td>1239.874969</td>\n",
              "      <td>109.725000</td>\n",
              "      <td>14.380000</td>\n",
              "      <td>15.570000</td>\n",
              "      <td>1.171313</td>\n",
              "    </tr>\n",
              "    <tr>\n",
              "      <th>50%</th>\n",
              "      <td>1551.434998</td>\n",
              "      <td>120.580002</td>\n",
              "      <td>33.869999</td>\n",
              "      <td>17.268500</td>\n",
              "      <td>1.303296</td>\n",
              "    </tr>\n",
              "    <tr>\n",
              "      <th>75%</th>\n",
              "      <td>2073.010070</td>\n",
              "      <td>132.840004</td>\n",
              "      <td>37.827501</td>\n",
              "      <td>22.882499</td>\n",
              "      <td>1.369971</td>\n",
              "    </tr>\n",
              "    <tr>\n",
              "      <th>max</th>\n",
              "      <td>2872.870117</td>\n",
              "      <td>184.589996</td>\n",
              "      <td>117.480003</td>\n",
              "      <td>47.259998</td>\n",
              "      <td>1.598798</td>\n",
              "    </tr>\n",
              "  </tbody>\n",
              "</table>\n",
              "</div>"
            ],
            "text/plain": [
              "               SPX          GLD          USO          SLV      EUR/USD\n",
              "count  2290.000000  2290.000000  2290.000000  2290.000000  2290.000000\n",
              "mean   1654.315776   122.732875    31.842221    20.084997     1.283653\n",
              "std     519.111540    23.283346    19.523517     7.092566     0.131547\n",
              "min     676.530029    70.000000     7.960000     8.850000     1.039047\n",
              "25%    1239.874969   109.725000    14.380000    15.570000     1.171313\n",
              "50%    1551.434998   120.580002    33.869999    17.268500     1.303296\n",
              "75%    2073.010070   132.840004    37.827501    22.882499     1.369971\n",
              "max    2872.870117   184.589996   117.480003    47.259998     1.598798"
            ]
          },
          "metadata": {
            "tags": []
          },
          "execution_count": 7
        }
      ]
    },
    {
      "cell_type": "markdown",
      "metadata": {
        "id": "7z1BD9AF2lMY"
      },
      "source": [
        "Correlation:\n",
        "1.   Positive correlation\n",
        "2.   Negetive correlation"
      ]
    },
    {
      "cell_type": "code",
      "metadata": {
        "id": "ejTA4dAF2VL4"
      },
      "source": [
        "correlation = gold_data.corr()"
      ],
      "execution_count": 8,
      "outputs": []
    },
    {
      "cell_type": "code",
      "metadata": {
        "colab": {
          "base_uri": "https://localhost:8080/",
          "height": 487
        },
        "id": "YTHFpiq923F9",
        "outputId": "ceac9942-b455-467b-aa3f-637211d66ed5"
      },
      "source": [
        "# constructing a heatmap to understand the correlation \n",
        "plt.figure(figsize=(8, 8))\n",
        "sns.heatmap(correlation, cbar=True, square=True, fmt='.1f', annot=True, annot_kws={'size':8}, cmap='Blues')"
      ],
      "execution_count": 9,
      "outputs": [
        {
          "output_type": "execute_result",
          "data": {
            "text/plain": [
              "<matplotlib.axes._subplots.AxesSubplot at 0x7f5bcb5078d0>"
            ]
          },
          "metadata": {
            "tags": []
          },
          "execution_count": 9
        },
        {
          "output_type": "display_data",
          "data": {
            "image/png": "[encoded data removed]",
            "text/plain": [
              "<Figure size 576x576 with 2 Axes>"
            ]
          },
          "metadata": {
            "tags": [],
            "needs_background": "light"
          }
        }
      ]
    },
    {
      "cell_type": "code",
      "metadata": {
        "colab": {
          "base_uri": "https://localhost:8080/"
        },
        "id": "xHmTyXUr3l2e",
        "outputId": "d8b0704b-df21-40e9-f1a9-7294f41bbeef"
      },
      "source": [
        "# correlation values of GLD\n",
        "print(correlation['GLD'])"
      ],
      "execution_count": 10,
      "outputs": [
        {
          "output_type": "stream",
          "text": [
            "SPX        0.049345\n",
            "GLD        1.000000\n",
            "USO       -0.186360\n",
            "SLV        0.866632\n",
            "EUR/USD   -0.024375\n",
            "Name: GLD, dtype: float64\n"
          ],
          "name": "stdout"
        }
      ]
    },
    {
      "cell_type": "code",
      "metadata": {
        "colab": {
          "base_uri": "https://localhost:8080/",
          "height": 355
        },
        "id": "lxYo9Gl834mY",
        "outputId": "d8892637-4feb-4bde-a86f-756973d4fa7b"
      },
      "source": [
        "# checking the distribution of the GLD price\n",
        "sns.distplot(gold_data['GLD'], color='green')"
      ],
      "execution_count": 11,
      "outputs": [
        {
          "output_type": "stream",
          "text": [
            "/usr/local/lib/python3.7/dist-packages/seaborn/distributions.py:2557: FutureWarning: `distplot` is a deprecated function and will be removed in a future version. Please adapt your code to use either `displot` (a figure-level function with similar flexibility) or `histplot` (an axes-level function for histograms).\n",
            "  warnings.warn(msg, FutureWarning)\n"
          ],
          "name": "stderr"
        },
        {
          "output_type": "execute_result",
          "data": {
            "text/plain": [
              "<matplotlib.axes._subplots.AxesSubplot at 0x7f5bc2eea790>"
            ]
          },
          "metadata": {
            "tags": []
          },
          "execution_count": 11
        },
        {
          "output_type": "display_data",
          "data": {
            "image/png": "[encoded data removed]",
            "text/plain": [
              "<Figure size 432x288 with 1 Axes>"
            ]
          },
          "metadata": {
            "tags": [],
            "needs_background": "light"
          }
        }
      ]
    },
    {
      "cell_type": "markdown",
      "metadata": {
        "id": "KLN-ObRi4UqJ"
      },
      "source": [
        "Splitting the features and target"
      ]
    },
    {
      "cell_type": "code",
      "metadata": {
        "id": "KR0YWDQa4NsW"
      },
      "source": [
        "X = gold_data.drop(['Date', 'GLD'], axis=1)\n",
        "Y = gold_data['GLD']"
      ],
      "execution_count": 12,
      "outputs": []
    },
    {
      "cell_type": "code",
      "metadata": {
        "colab": {
          "base_uri": "https://localhost:8080/",
          "height": 423
        },
        "id": "z_x6tW0r4lDn",
        "outputId": "394a93c3-37dc-4c63-ec17-d73694238da5"
      },
      "source": [
        "X"
      ],
      "execution_count": 13,
      "outputs": [
        {
          "output_type": "execute_result",
          "data": {
            "text/html": [
              "<div>\n",
              "<style scoped>\n",
              "    .dataframe tbody tr th:only-of-type {\n",
              "        vertical-align: middle;\n",
              "    }\n",
              "\n",
              "    .dataframe tbody tr th {\n",
              "        vertical-align: top;\n",
              "    }\n",
              "\n",
              "    .dataframe thead th {\n",
              "        text-align: right;\n",
              "    }\n",
              "</style>\n",
              "<table border=\"1\" class=\"dataframe\">\n",
              "  <thead>\n",
              "    <tr style=\"text-align: right;\">\n",
              "      <th></th>\n",
              "      <th>SPX</th>\n",
              "      <th>USO</th>\n",
              "      <th>SLV</th>\n",
              "      <th>EUR/USD</th>\n",
              "    </tr>\n",
              "  </thead>\n",
              "  <tbody>\n",
              "    <tr>\n",
              "      <th>0</th>\n",
              "      <td>1447.160034</td>\n",
              "      <td>78.470001</td>\n",
              "      <td>15.1800</td>\n",
              "      <td>1.471692</td>\n",
              "    </tr>\n",
              "    <tr>\n",
              "      <th>1</th>\n",
              "      <td>1447.160034</td>\n",
              "      <td>78.370003</td>\n",
              "      <td>15.2850</td>\n",
              "      <td>1.474491</td>\n",
              "    </tr>\n",
              "    <tr>\n",
              "      <th>2</th>\n",
              "      <td>1411.630005</td>\n",
              "      <td>77.309998</td>\n",
              "      <td>15.1670</td>\n",
              "      <td>1.475492</td>\n",
              "    </tr>\n",
              "    <tr>\n",
              "      <th>3</th>\n",
              "      <td>1416.180054</td>\n",
              "      <td>75.500000</td>\n",
              "      <td>15.0530</td>\n",
              "      <td>1.468299</td>\n",
              "    </tr>\n",
              "    <tr>\n",
              "      <th>4</th>\n",
              "      <td>1390.189941</td>\n",
              "      <td>76.059998</td>\n",
              "      <td>15.5900</td>\n",
              "      <td>1.557099</td>\n",
              "    </tr>\n",
              "    <tr>\n",
              "      <th>...</th>\n",
              "      <td>...</td>\n",
              "      <td>...</td>\n",
              "      <td>...</td>\n",
              "      <td>...</td>\n",
              "    </tr>\n",
              "    <tr>\n",
              "      <th>2285</th>\n",
              "      <td>2671.919922</td>\n",
              "      <td>14.060000</td>\n",
              "      <td>15.5100</td>\n",
              "      <td>1.186789</td>\n",
              "    </tr>\n",
              "    <tr>\n",
              "      <th>2286</th>\n",
              "      <td>2697.790039</td>\n",
              "      <td>14.370000</td>\n",
              "      <td>15.5300</td>\n",
              "      <td>1.184722</td>\n",
              "    </tr>\n",
              "    <tr>\n",
              "      <th>2287</th>\n",
              "      <td>2723.070068</td>\n",
              "      <td>14.410000</td>\n",
              "      <td>15.7400</td>\n",
              "      <td>1.191753</td>\n",
              "    </tr>\n",
              "    <tr>\n",
              "      <th>2288</th>\n",
              "      <td>2730.129883</td>\n",
              "      <td>14.380000</td>\n",
              "      <td>15.5600</td>\n",
              "      <td>1.193118</td>\n",
              "    </tr>\n",
              "    <tr>\n",
              "      <th>2289</th>\n",
              "      <td>2725.780029</td>\n",
              "      <td>14.405800</td>\n",
              "      <td>15.4542</td>\n",
              "      <td>1.182033</td>\n",
              "    </tr>\n",
              "  </tbody>\n",
              "</table>\n",
              "<p>2290 rows × 4 columns</p>\n",
              "</div>"
            ],
            "text/plain": [
              "              SPX        USO      SLV   EUR/USD\n",
              "0     1447.160034  78.470001  15.1800  1.471692\n",
              "1     1447.160034  78.370003  15.2850  1.474491\n",
              "2     1411.630005  77.309998  15.1670  1.475492\n",
              "3     1416.180054  75.500000  15.0530  1.468299\n",
              "4     1390.189941  76.059998  15.5900  1.557099\n",
              "...           ...        ...      ...       ...\n",
              "2285  2671.919922  14.060000  15.5100  1.186789\n",
              "2286  2697.790039  14.370000  15.5300  1.184722\n",
              "2287  2723.070068  14.410000  15.7400  1.191753\n",
              "2288  2730.129883  14.380000  15.5600  1.193118\n",
              "2289  2725.780029  14.405800  15.4542  1.182033\n",
              "\n",
              "[2290 rows x 4 columns]"
            ]
          },
          "metadata": {
            "tags": []
          },
          "execution_count": 13
        }
      ]
    },
    {
      "cell_type": "code",
      "metadata": {
        "colab": {
          "base_uri": "https://localhost:8080/"
        },
        "id": "5OhCeJ-U4oxE",
        "outputId": "a637afb2-2381-4813-9c6e-a8b60d5f6865"
      },
      "source": [
        "Y"
      ],
      "execution_count": 14,
      "outputs": [
        {
          "output_type": "execute_result",
          "data": {
            "text/plain": [
              "0        84.860001\n",
              "1        85.570000\n",
              "2        85.129997\n",
              "3        84.769997\n",
              "4        86.779999\n",
              "           ...    \n",
              "2285    124.589996\n",
              "2286    124.330002\n",
              "2287    125.180000\n",
              "2288    124.489998\n",
              "2289    122.543800\n",
              "Name: GLD, Length: 2290, dtype: float64"
            ]
          },
          "metadata": {
            "tags": []
          },
          "execution_count": 14
        }
      ]
    },
    {
      "cell_type": "markdown",
      "metadata": {
        "id": "PmEGfnrs4rYj"
      },
      "source": [
        "Splitting the data into a Training&Test data"
      ]
    },
    {
      "cell_type": "code",
      "metadata": {
        "id": "uhMIWnzi4prc"
      },
      "source": [
        "X_train, X_test, Y_train, Y_test = train_test_split(X, Y, test_size=0.2, random_state=2)"
      ],
      "execution_count": 15,
      "outputs": []
    },
    {
      "cell_type": "markdown",
      "metadata": {
        "id": "XboEPjEY6jDN"
      },
      "source": [
        "Model Training: Random Forest Regressor"
      ]
    },
    {
      "cell_type": "code",
      "metadata": {
        "id": "QE5q67zt6dY7"
      },
      "source": [
        "regressor = RandomForestRegressor(n_estimators=100)"
      ],
      "execution_count": 16,
      "outputs": []
    },
    {
      "cell_type": "code",
      "metadata": {
        "colab": {
          "base_uri": "https://localhost:8080/"
        },
        "id": "wTbiEHWC9o1H",
        "outputId": "034d6b2f-9ca5-4898-8ed4-8a1fb3a992b1"
      },
      "source": [
        "# training the model\n",
        "regressor.fit(X_train, Y_train)"
      ],
      "execution_count": 17,
      "outputs": [
        {
          "output_type": "execute_result",
          "data": {
            "text/plain": [
              "RandomForestRegressor(bootstrap=True, ccp_alpha=0.0, criterion='mse',\n",
              "                      max_depth=None, max_features='auto', max_leaf_nodes=None,\n",
              "                      max_samples=None, min_impurity_decrease=0.0,\n",
              "                      min_impurity_split=None, min_samples_leaf=1,\n",
              "                      min_samples_split=2, min_weight_fraction_leaf=0.0,\n",
              "                      n_estimators=100, n_jobs=None, oob_score=False,\n",
              "                      random_state=None, verbose=0, warm_start=False)"
            ]
          },
          "metadata": {
            "tags": []
          },
          "execution_count": 17
        }
      ]
    },
    {
      "cell_type": "markdown",
      "metadata": {
        "id": "s1eKFh3l96j5"
      },
      "source": [
        "Model Evaluation"
      ]
    },
    {
      "cell_type": "code",
      "metadata": {
        "id": "sNUqEGK896Sb"
      },
      "source": [
        "# predection on test data\n",
        "test_data_prediction = regressor.predict(X_test)"
      ],
      "execution_count": 18,
      "outputs": []
    },
    {
      "cell_type": "code",
      "metadata": {
        "colab": {
          "base_uri": "https://localhost:8080/"
        },
        "id": "eEw4U8B09z_S",
        "outputId": "e9537ebd-fdf9-4299-986d-600e55e4eec9"
      },
      "source": [
        "test_data_prediction"
      ],
      "execution_count": 19,
      "outputs": [
        {
          "output_type": "execute_result",
          "data": {
            "text/plain": [
              "array([168.79079983,  82.16949994, 116.04690087, 127.63790072,\n",
              "       120.70690156, 154.75829791, 150.15129804, 126.15730056,\n",
              "       117.56329895, 126.04740072, 116.95690112, 171.47270081,\n",
              "       140.88159856, 168.02059843, 114.95270013, 117.81880069,\n",
              "       138.04330369, 170.15430045, 158.62020217, 161.06410041,\n",
              "       155.12539987, 125.2079001 , 175.93490019, 157.0654033 ,\n",
              "       125.21030032,  93.95350005,  77.0831002 , 120.60100006,\n",
              "       119.03329879, 167.05580034,  88.14220058, 125.3213002 ,\n",
              "        91.12240072, 117.66720027, 121.04939914, 136.51910071,\n",
              "       115.38280102, 115.38010077, 145.68310028, 107.48940137,\n",
              "       104.25510224,  87.27699808, 126.58240064, 117.88500003,\n",
              "       152.6065984 , 119.64260003, 108.36129987, 107.99359789,\n",
              "        93.27730102, 127.00449826,  74.49950036, 113.60369953,\n",
              "       121.39329986, 111.21069894, 118.906999  , 120.82929958,\n",
              "       159.94379982, 167.31530107, 146.87869672,  86.09889857,\n",
              "        94.2243002 ,  86.88219881,  90.55620046, 118.94930049,\n",
              "       126.45830045, 127.50909964, 169.43159969, 122.23179934,\n",
              "       117.41099911,  98.4369006 , 168.4713013 , 143.01209844,\n",
              "       132.52090269, 121.07550235, 121.70379936, 119.52320081,\n",
              "       114.73580104, 118.28640068, 107.34810108, 127.83370033,\n",
              "       113.74900011, 107.40049994, 117.14870017, 119.70969882,\n",
              "        89.10010035,  88.33159887, 146.45030243, 127.31830056,\n",
              "       113.2292005 , 110.21969814, 108.16839914,  77.32639924,\n",
              "       169.50920224, 113.9698988 , 121.70159916, 127.83550156,\n",
              "       154.99309773,  91.8120995 , 135.76760109, 158.41410243,\n",
              "       125.47650062, 125.40440093, 130.5464017 , 114.92710087,\n",
              "       119.80219982,  92.15099981, 110.165699  , 167.16159911,\n",
              "       157.13119841, 113.98969913, 106.52420111,  79.48579979,\n",
              "       113.29250042, 125.84910067, 107.48059926, 119.17770107,\n",
              "       155.75470341, 159.82789956, 119.87920019, 135.08190279,\n",
              "       101.30950003, 117.37789821, 119.35319993, 112.88900077,\n",
              "       102.74809909, 160.19289806,  99.42260046, 148.7892998 ,\n",
              "       125.44200097, 169.4866991 , 125.54789961, 127.29799767,\n",
              "       127.66650244, 113.78579939, 112.94250062, 123.51009925,\n",
              "       102.09389862,  89.51069984, 124.67309955, 101.71309934,\n",
              "       107.20469914, 113.21880091, 117.39760077,  99.34599954,\n",
              "       121.67240053, 163.37589905,  87.38299881, 106.56699999,\n",
              "       117.06720076, 127.67560086, 124.08720035,  80.6472991 ,\n",
              "       120.12370034, 157.75029788,  88.24669962, 110.23619968,\n",
              "       119.03719918, 172.22519887, 102.98709905, 105.45700027,\n",
              "       122.66950042, 158.13789701,  87.55129824,  93.42220053,\n",
              "       112.77970004, 176.50259987, 114.43849984, 119.42900006,\n",
              "        94.60480089, 125.77609989, 166.07470144, 114.91230029,\n",
              "       116.69210143,  88.34409873, 148.83500089, 120.42259959,\n",
              "        89.50799977, 111.9676999 , 117.18010037, 118.89060133,\n",
              "        87.99279951,  94.06839981, 117.14619984, 118.54640193,\n",
              "       120.13140044, 126.80859812, 121.97620008, 150.60899976,\n",
              "       165.60940122, 118.51619974, 120.37000141, 150.80860057,\n",
              "       118.56459928, 172.22889864, 105.31859935, 104.92820121,\n",
              "       149.08000103, 113.46040102, 124.643201  , 147.42419966,\n",
              "       119.72110125, 115.27330017, 112.35610025, 113.49000213,\n",
              "       138.89680107, 117.87149775, 102.92370049, 115.83400113,\n",
              "       103.52880161,  98.77540072, 117.10060049,  90.64000028,\n",
              "        91.7127002 , 153.56979863, 102.77259984, 154.56540079,\n",
              "       114.38040193, 138.50360142,  90.01509815, 115.54469956,\n",
              "       114.36079967, 122.6047007 , 121.83450033, 165.22020138,\n",
              "        92.8997992 , 135.22750076, 121.31539921, 120.90150045,\n",
              "       104.76780013, 142.03780279, 122.0464991 , 116.62450043,\n",
              "       113.46760079, 126.91849796, 122.63919945, 125.82979938,\n",
              "       121.21280035,  86.82029892, 132.91100145, 144.48950209,\n",
              "        92.86659978, 158.94499931, 158.63760183, 126.31949927,\n",
              "       164.92759875, 108.77409967, 110.00860105, 103.63949833,\n",
              "        94.22890076, 127.64170294, 107.11110043, 161.95049965,\n",
              "       121.67900034, 132.13270043, 130.6461014 , 160.8487997 ,\n",
              "        89.95049851, 175.96600243, 127.84350052, 126.75939836,\n",
              "        86.35999958, 124.54299947, 150.25219717,  89.66640012,\n",
              "       106.68430002, 109.09529998,  84.71159926, 135.75010003,\n",
              "       155.2133028 , 140.2795031 ,  74.0289004 , 152.47160076,\n",
              "       126.08780019, 126.80010002, 127.549399  , 108.5919997 ,\n",
              "       156.48199978, 114.62750078, 117.0282015 , 125.68369973,\n",
              "       153.92450142, 121.27469996, 156.4414989 ,  92.94060052,\n",
              "       125.4290014 , 125.58840026,  88.17360105,  92.42819919,\n",
              "       126.27669916, 128.32170409, 113.18350089, 117.75109748,\n",
              "       121.13450004, 126.83259847, 119.75100108, 136.22830124,\n",
              "        94.03629936, 119.95840032, 113.37150111,  94.3045997 ,\n",
              "       108.96959974,  86.83529924, 109.0613993 ,  89.42349992,\n",
              "        92.49490023, 131.59910324, 162.48180065,  89.20440034,\n",
              "       119.51760122, 133.34060204, 123.61080012, 128.42400146,\n",
              "       101.91929825,  88.89049904, 132.44980016, 120.02050057,\n",
              "       108.42719996, 166.85550125, 115.26870067,  86.56779903,\n",
              "       118.92070073,  91.13209978, 161.9898    , 116.38680031,\n",
              "       121.59940005, 160.42739843, 120.12329916, 112.67869976,\n",
              "       108.42949881, 126.80429986,  75.87660025, 102.99159988,\n",
              "       127.51350266, 121.81069919,  92.68809976, 132.38640061,\n",
              "       118.11500087, 116.04339946, 154.47280281, 159.42620074,\n",
              "       110.01310008, 154.71499817, 119.35210094, 160.73550051,\n",
              "       118.24460014, 158.58359903, 115.15129942, 116.57520014,\n",
              "       150.43289873, 114.91450039, 125.60889892, 166.51199873,\n",
              "       117.75430001, 125.01759939, 152.97810365, 153.44320217,\n",
              "       132.15880025, 114.91000019, 121.23300173, 124.63700072,\n",
              "        89.79370038, 123.16609967, 155.07430206, 111.58950025,\n",
              "       106.56540004, 161.81200138, 118.63210002, 165.69760065,\n",
              "       134.19370136, 114.97439958, 153.00189909, 168.69689972,\n",
              "       115.22739983, 113.97230121, 157.94629825,  85.29719845,\n",
              "       127.15750054, 127.9769003 , 128.93850008, 124.38880042,\n",
              "       123.77100059,  90.71470065, 153.0038    ,  97.17809977,\n",
              "       138.25209964,  89.13789931, 107.46339986, 115.10610057,\n",
              "       112.54760089, 123.99979937,  91.53409868, 125.51430144,\n",
              "       162.31289901, 119.71229921, 165.22110123, 126.76109819,\n",
              "       112.51539991, 127.55409949,  94.89949873,  90.86800001,\n",
              "       102.65099891, 120.90060016,  82.85789958, 126.2060998 ,\n",
              "       159.83100441, 117.24230146, 118.38829985, 119.7992    ,\n",
              "       122.88819967, 120.04630137, 121.4368001 , 117.93890054,\n",
              "       107.13329975, 148.2456997 , 126.08519906, 115.81630081,\n",
              "        74.21339997, 127.77250041, 152.8449001 , 121.88290017,\n",
              "       125.57540086,  88.78720035, 103.49089868, 124.66670046,\n",
              "       120.21550034,  73.59820061, 151.8195009 , 121.31810014,\n",
              "       104.6320997 ,  86.30859755, 115.1038993 , 172.21069871,\n",
              "       119.77870026, 160.31279834, 113.19509985, 121.4593001 ,\n",
              "       118.33870131,  95.89799984, 118.44710029, 125.82350027,\n",
              "       118.54699968,  95.73890039, 154.16420189, 122.41329998,\n",
              "       147.52420024, 159.37280215, 114.15050041, 122.56969921,\n",
              "       148.62049811, 127.47030015, 165.96630129, 135.58590029,\n",
              "       119.93549959, 166.91559865, 108.35009887, 121.85909888,\n",
              "       137.62680178, 106.01359876])"
            ]
          },
          "metadata": {
            "tags": []
          },
          "execution_count": 19
        }
      ]
    },
    {
      "cell_type": "code",
      "metadata": {
        "colab": {
          "base_uri": "https://localhost:8080/"
        },
        "id": "hDqZutim-L_l",
        "outputId": "0f5baba8-44ac-4117-d21a-758909704799"
      },
      "source": [
        "# R squared error\n",
        "error_score = metrics.r2_score(Y_test, test_data_prediction)\n",
        "print(f'R squared error: {error_score}')"
      ],
      "execution_count": 20,
      "outputs": [
        {
          "output_type": "stream",
          "text": [
            "R squared error: 0.9897870480933569\n"
          ],
          "name": "stdout"
        }
      ]
    },
    {
      "cell_type": "markdown",
      "metadata": {
        "id": "O64_AjPN_UBX"
      },
      "source": [
        "Compare the acutal values and predicted values"
      ]
    },
    {
      "cell_type": "code",
      "metadata": {
        "id": "v0F9uxde-mwj"
      },
      "source": [
        "Y_test = list(Y_test)"
      ],
      "execution_count": 21,
      "outputs": []
    },
    {
      "cell_type": "code",
      "metadata": {
        "colab": {
          "base_uri": "https://localhost:8080/",
          "height": 295
        },
        "id": "wZqMuN5u_iRX",
        "outputId": "4964a7f6-6c6f-484b-d176-e2f51bddc50e"
      },
      "source": [
        "plt.plot(Y_test, color='blue', label='Actual value')\n",
        "plt.plot(test_data_prediction, color='green', label='Predicted Value')\n",
        "plt.title('Actual Price vs Predicted Price')\n",
        "plt.xlabel('Number of values')\n",
        "plt.ylabel('GLD price')\n",
        "plt.legend()\n",
        "plt.show()"
      ],
      "execution_count": 22,
      "outputs": [
        {
          "output_type": "display_data",
          "data": {
            "image/png": "[encoded data removed]",
            "text/plain": [
              "<Figure size 432x288 with 1 Axes>"
            ]
          },
          "metadata": {
            "tags": [],
            "needs_background": "light"
          }
        }
      ]
    }
  ]
}